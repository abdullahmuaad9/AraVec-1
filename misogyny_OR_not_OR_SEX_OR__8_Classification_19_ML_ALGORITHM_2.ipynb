{
  "nbformat": 4,
  "nbformat_minor": 0,
  "metadata": {
    "colab": {
      "name": "misogyny OR not OR SEX OR _8_Classification_19_ML_ALGORITHM 2.ipynb",
      "provenance": [],
      "collapsed_sections": [],
      "include_colab_link": true
    },
    "kernelspec": {
      "name": "python3",
      "display_name": "Python 3"
    }
  },
  "cells": [
    {
      "cell_type": "markdown",
      "metadata": {
        "id": "view-in-github",
        "colab_type": "text"
      },
      "source": [
        "<a href=\"https://colab.research.google.com/github/abdullahmuaad9/AraVec-1/blob/main/misogyny_OR_not_OR_SEX_OR__8_Classification_19_ML_ALGORITHM_2.ipynb\" target=\"_parent\"><img src=\"https://colab.research.google.com/assets/colab-badge.svg\" alt=\"Open In Colab\"/></a>"
      ]
    },
    {
      "cell_type": "code",
      "metadata": {
        "id": "PpDs8PrmyJhd"
      },
      "source": [
        "import numpy as np\n",
        "import pandas as pd\n",
        "import itertools\n",
        "from sklearn.model_selection import train_test_split\n",
        "from sklearn.feature_extraction.text import TfidfVectorizer\n",
        "from sklearn.linear_model import PassiveAggressiveClassifier\n",
        "from sklearn.metrics import accuracy_score, confusion_matrix\n",
        "df=pd.read_csv('/content/ArMI2021_training.tsv',delimiter='\\t',encoding='utf-8')\n"
      ],
      "execution_count": null,
      "outputs": []
    },
    {
      "cell_type": "code",
      "metadata": {
        "id": "tDSrqRPCKhF6"
      },
      "source": [
        "%matplotlib inline\n",
        "import numpy as np\n",
        "import pandas as pd\n",
        "import matplotlib.pyplot as plt\n",
        "import seaborn as sns\n",
        "from sklearn.model_selection import train_test_split\n",
        "from sklearn.metrics import classification_report\n",
        "from sklearn.linear_model import LinearRegression\n",
        "from sklearn.metrics import accuracy_score,accuracy_score\n",
        "from sklearn.metrics import confusion_matrix\n",
        "from scipy import stats\n",
        "import pylab as pl\n",
        "from sklearn.preprocessing import LabelEncoder"
      ],
      "execution_count": null,
      "outputs": []
    },
    {
      "cell_type": "code",
      "metadata": {
        "colab": {
          "base_uri": "https://localhost:8080/"
        },
        "id": "vuzTqqrGag4L",
        "outputId": "a2f60939-d478-41c5-b0e5-6886205f7102"
      },
      "source": [
        "df.head"
      ],
      "execution_count": null,
      "outputs": [
        {
          "output_type": "execute_result",
          "data": {
            "text/plain": [
              "<bound method NDFrame.head of       tweet_id  ...   category\n",
              "0            0  ...       none\n",
              "1            1  ...  discredit\n",
              "2            2  ...       none\n",
              "3            3  ...       none\n",
              "4            4  ...       none\n",
              "...        ...  ...        ...\n",
              "7861      7861  ...  discredit\n",
              "7862      7862  ...       none\n",
              "7863      7863  ...    damning\n",
              "7864      7864  ...  discredit\n",
              "7865      7865  ...  discredit\n",
              "\n",
              "[7866 rows x 4 columns]>"
            ]
          },
          "metadata": {
            "tags": []
          },
          "execution_count": 26
        }
      ]
    },
    {
      "cell_type": "code",
      "metadata": {
        "id": "g2vIF8_G1l3H",
        "colab": {
          "base_uri": "https://localhost:8080/"
        },
        "outputId": "f6f4dc1e-b730-4ed7-a0b7-eb9818198f7c"
      },
      "source": [
        "print(df.shape)\n",
        "print(df.head())\n",
        "labels = df.category\n",
        "print(labels)\n",
        "X_train, X_test, y_train, y_test = train_test_split(df['text'], labels, test_size = 0.2, random_state = 7) "
      ],
      "execution_count": null,
      "outputs": [
        {
          "output_type": "stream",
          "text": [
            "(7866, 4)\n",
            "   tweet_id  ...   category\n",
            "0         0  ...       none\n",
            "1         1  ...  discredit\n",
            "2         2  ...       none\n",
            "3         3  ...       none\n",
            "4         4  ...       none\n",
            "\n",
            "[5 rows x 4 columns]\n",
            "0            none\n",
            "1       discredit\n",
            "2            none\n",
            "3            none\n",
            "4            none\n",
            "          ...    \n",
            "7861    discredit\n",
            "7862         none\n",
            "7863      damning\n",
            "7864    discredit\n",
            "7865    discredit\n",
            "Name: category, Length: 7866, dtype: object\n"
          ],
          "name": "stdout"
        }
      ]
    },
    {
      "cell_type": "code",
      "metadata": {
        "id": "hp7ObpCp-mPd"
      },
      "source": [
        "tfidf_vectorizer=TfidfVectorizer(stop_words='english', max_df=0.7)\n",
        "tfidf_train=tfidf_vectorizer.fit_transform(X_train) \n",
        "tfidf_test=tfidf_vectorizer.transform(X_test)\n",
        "\n"
      ],
      "execution_count": null,
      "outputs": []
    },
    {
      "cell_type": "code",
      "metadata": {
        "id": "aUZzO11I-74i",
        "colab": {
          "base_uri": "https://localhost:8080/"
        },
        "outputId": "d402db1a-1923-43c4-8ff7-8987067d93e0"
      },
      "source": [
        "pac=PassiveAggressiveClassifier(max_iter=50)\n",
        "pac.fit(tfidf_train,y_train)\n",
        "y_pred=pac.predict(tfidf_test)\n",
        "score=accuracy_score(y_test,y_pred)\n",
        "print(f'Accuracy: {round(score*100,2)}%')"
      ],
      "execution_count": null,
      "outputs": [
        {
          "output_type": "stream",
          "text": [
            "Accuracy: 71.66%\n"
          ],
          "name": "stdout"
        }
      ]
    },
    {
      "cell_type": "code",
      "metadata": {
        "id": "5M71lvAi_H1W",
        "colab": {
          "base_uri": "https://localhost:8080/"
        },
        "outputId": "9bda6dc5-0a7d-40d7-9fe5-faa1936d8c4e"
      },
      "source": [
        "#Confusion matrix to summarize the goodness of classification\n",
        "confusion_matrix(y_test,y_pred, labels=['none','discredit','damning','threat of violence','dominance','stereotyping & objectification','threat of violence','sexual harassment'])\n"
      ],
      "execution_count": null,
      "outputs": [
        {
          "output_type": "execute_result",
          "data": {
            "text/plain": [
              "array([[478,  80,   8,   0,   7,  13,   3,   0],\n",
              "       [112, 440,  11,   0,   5,  19,   6,   0],\n",
              "       [ 16,  13, 104,   0,   0,   1,   4,   0],\n",
              "       [  0,   0,   0,   0,   0,   0,   0,   0],\n",
              "       [  9,  16,   0,   0,  15,   4,   1,   0],\n",
              "       [ 22,  32,   1,   0,   4,  81,   0,   1],\n",
              "       [ 10,  14,   2,   0,   1,   3,   7,   0],\n",
              "       [  2,   5,   0,   0,   1,   0,   2,   1]])"
            ]
          },
          "metadata": {
            "tags": []
          },
          "execution_count": 81
        }
      ]
    },
    {
      "cell_type": "code",
      "metadata": {
        "colab": {
          "base_uri": "https://localhost:8080/"
        },
        "id": "f-TjRedkKU3r",
        "outputId": "e64f45b7-b119-4bd5-c3a9-cade78eab744"
      },
      "source": [
        "print(classification_report(y_test, y_pred))\n",
        "print(confusion_matrix(y_test, y_pred))"
      ],
      "execution_count": null,
      "outputs": [
        {
          "output_type": "stream",
          "text": [
            "                                precision    recall  f1-score   support\n",
            "\n",
            "                       damning       0.82      0.75      0.78       138\n",
            "                     derailing       0.33      0.12      0.18        16\n",
            "                     discredit       0.73      0.74      0.73       594\n",
            "                     dominance       0.44      0.33      0.38        45\n",
            "                          none       0.73      0.81      0.77       591\n",
            "             sexual harassment       0.50      0.09      0.15        11\n",
            "stereotyping & objectification       0.67      0.57      0.62       141\n",
            "            threat of violence       0.29      0.18      0.23        38\n",
            "\n",
            "                      accuracy                           0.72      1574\n",
            "                     macro avg       0.56      0.45      0.48      1574\n",
            "                  weighted avg       0.71      0.72      0.71      1574\n",
            "\n",
            "[[104   0  13   0  16   0   1   4]\n",
            " [  1   2   6   1   5   0   0   1]\n",
            " [ 11   1 440   5 112   0  19   6]\n",
            " [  0   0  16  15   9   0   4   1]\n",
            " [  8   2  80   7 478   0  13   3]\n",
            " [  0   0   5   1   2   1   0   2]\n",
            " [  1   0  32   4  22   1  81   0]\n",
            " [  2   1  14   1  10   0   3   7]]\n"
          ],
          "name": "stdout"
        }
      ]
    },
    {
      "cell_type": "code",
      "metadata": {
        "colab": {
          "base_uri": "https://localhost:8080/",
          "height": 374
        },
        "id": "l_z8QZyWCuMQ",
        "outputId": "a63f1e06-3ebe-4f81-fef7-dc24558d7d36"
      },
      "source": [
        "from sklearn.linear_model import LinearRegression\n",
        "\n",
        "le = LabelEncoder()\n",
        "y_train= le.fit_transform(y_train)\n",
        "y_test= le.fit_transform(y_test)\n",
        "\n",
        "modelLR = LinearRegression()\n",
        "\n",
        "modelLR.fit(tfidf_train,y_train)\n",
        "\n",
        "y_pred=modelLR.predict(tfidf_test)\n",
        "\n",
        "score=accuracy_score(y_test,y_pred)\n",
        "\n",
        "print(f'Accuracy: {round(score*100,2)}%')\n",
        "print(classification_report(y_test, y_pred))\n",
        "print(confusion_matrix(y_test, y_pred))\n"
      ],
      "execution_count": null,
      "outputs": [
        {
          "output_type": "error",
          "ename": "ValueError",
          "evalue": "ignored",
          "traceback": [
            "\u001b[0;31m---------------------------------------------------------------------------\u001b[0m",
            "\u001b[0;31mValueError\u001b[0m                                Traceback (most recent call last)",
            "\u001b[0;32m<ipython-input-83-b4c6c15ec9d0>\u001b[0m in \u001b[0;36m<module>\u001b[0;34m()\u001b[0m\n\u001b[1;32m     11\u001b[0m \u001b[0my_pred\u001b[0m\u001b[0;34m=\u001b[0m\u001b[0mmodelLR\u001b[0m\u001b[0;34m.\u001b[0m\u001b[0mpredict\u001b[0m\u001b[0;34m(\u001b[0m\u001b[0mtfidf_test\u001b[0m\u001b[0;34m)\u001b[0m\u001b[0;34m\u001b[0m\u001b[0;34m\u001b[0m\u001b[0m\n\u001b[1;32m     12\u001b[0m \u001b[0;34m\u001b[0m\u001b[0m\n\u001b[0;32m---> 13\u001b[0;31m \u001b[0mscore\u001b[0m\u001b[0;34m=\u001b[0m\u001b[0maccuracy_score\u001b[0m\u001b[0;34m(\u001b[0m\u001b[0my_test\u001b[0m\u001b[0;34m,\u001b[0m\u001b[0my_pred\u001b[0m\u001b[0;34m)\u001b[0m\u001b[0;34m\u001b[0m\u001b[0;34m\u001b[0m\u001b[0m\n\u001b[0m\u001b[1;32m     14\u001b[0m \u001b[0;34m\u001b[0m\u001b[0m\n\u001b[1;32m     15\u001b[0m \u001b[0mprint\u001b[0m\u001b[0;34m(\u001b[0m\u001b[0;34mf'Accuracy: {round(score*100,2)}%'\u001b[0m\u001b[0;34m)\u001b[0m\u001b[0;34m\u001b[0m\u001b[0;34m\u001b[0m\u001b[0m\n",
            "\u001b[0;32m/usr/local/lib/python3.7/dist-packages/sklearn/metrics/_classification.py\u001b[0m in \u001b[0;36maccuracy_score\u001b[0;34m(y_true, y_pred, normalize, sample_weight)\u001b[0m\n\u001b[1;32m    183\u001b[0m \u001b[0;34m\u001b[0m\u001b[0m\n\u001b[1;32m    184\u001b[0m     \u001b[0;31m# Compute accuracy for each possible representation\u001b[0m\u001b[0;34m\u001b[0m\u001b[0;34m\u001b[0m\u001b[0;34m\u001b[0m\u001b[0m\n\u001b[0;32m--> 185\u001b[0;31m     \u001b[0my_type\u001b[0m\u001b[0;34m,\u001b[0m \u001b[0my_true\u001b[0m\u001b[0;34m,\u001b[0m \u001b[0my_pred\u001b[0m \u001b[0;34m=\u001b[0m \u001b[0m_check_targets\u001b[0m\u001b[0;34m(\u001b[0m\u001b[0my_true\u001b[0m\u001b[0;34m,\u001b[0m \u001b[0my_pred\u001b[0m\u001b[0;34m)\u001b[0m\u001b[0;34m\u001b[0m\u001b[0;34m\u001b[0m\u001b[0m\n\u001b[0m\u001b[1;32m    186\u001b[0m     \u001b[0mcheck_consistent_length\u001b[0m\u001b[0;34m(\u001b[0m\u001b[0my_true\u001b[0m\u001b[0;34m,\u001b[0m \u001b[0my_pred\u001b[0m\u001b[0;34m,\u001b[0m \u001b[0msample_weight\u001b[0m\u001b[0;34m)\u001b[0m\u001b[0;34m\u001b[0m\u001b[0;34m\u001b[0m\u001b[0m\n\u001b[1;32m    187\u001b[0m     \u001b[0;32mif\u001b[0m \u001b[0my_type\u001b[0m\u001b[0;34m.\u001b[0m\u001b[0mstartswith\u001b[0m\u001b[0;34m(\u001b[0m\u001b[0;34m'multilabel'\u001b[0m\u001b[0;34m)\u001b[0m\u001b[0;34m:\u001b[0m\u001b[0;34m\u001b[0m\u001b[0;34m\u001b[0m\u001b[0m\n",
            "\u001b[0;32m/usr/local/lib/python3.7/dist-packages/sklearn/metrics/_classification.py\u001b[0m in \u001b[0;36m_check_targets\u001b[0;34m(y_true, y_pred)\u001b[0m\n\u001b[1;32m     88\u001b[0m     \u001b[0;32mif\u001b[0m \u001b[0mlen\u001b[0m\u001b[0;34m(\u001b[0m\u001b[0my_type\u001b[0m\u001b[0;34m)\u001b[0m \u001b[0;34m>\u001b[0m \u001b[0;36m1\u001b[0m\u001b[0;34m:\u001b[0m\u001b[0;34m\u001b[0m\u001b[0;34m\u001b[0m\u001b[0m\n\u001b[1;32m     89\u001b[0m         raise ValueError(\"Classification metrics can't handle a mix of {0} \"\n\u001b[0;32m---> 90\u001b[0;31m                          \"and {1} targets\".format(type_true, type_pred))\n\u001b[0m\u001b[1;32m     91\u001b[0m \u001b[0;34m\u001b[0m\u001b[0m\n\u001b[1;32m     92\u001b[0m     \u001b[0;31m# We can't have more than one value on y_type => The set is no more needed\u001b[0m\u001b[0;34m\u001b[0m\u001b[0;34m\u001b[0m\u001b[0;34m\u001b[0m\u001b[0m\n",
            "\u001b[0;31mValueError\u001b[0m: Classification metrics can't handle a mix of multiclass and continuous targets"
          ]
        }
      ]
    },
    {
      "cell_type": "code",
      "metadata": {
        "colab": {
          "base_uri": "https://localhost:8080/"
        },
        "id": "8vrEQR6EOt12",
        "outputId": "7bb2f19e-bae2-4c3d-d6fd-bb9f6eca426b"
      },
      "source": [
        "from sklearn.linear_model import LogisticRegression\n",
        "le = LabelEncoder()\n",
        "y_train= le.fit_transform(y_train)\n",
        "y_test= le.fit_transform(y_test)\n",
        "\n",
        "modelLR = LogisticRegression()\n",
        "\n",
        "modelLR.fit(tfidf_train,y_train)\n",
        "\n",
        "y_pred=modelLR.predict(tfidf_test)\n",
        "\n",
        "score=accuracy_score(y_test,y_pred)\n",
        "\n",
        "print(f'Accuracy: {round(score*100,2)}%')\n",
        "print(classification_report(y_test, y_pred))\n",
        "print(confusion_matrix(y_test, y_pred))\n"
      ],
      "execution_count": null,
      "outputs": [
        {
          "output_type": "stream",
          "text": [
            "Accuracy: 69.0%\n",
            "              precision    recall  f1-score   support\n",
            "\n",
            "           0       0.89      0.57      0.70       138\n",
            "           1       0.00      0.00      0.00        16\n",
            "           2       0.67      0.75      0.71       594\n",
            "           3       1.00      0.11      0.20        45\n",
            "           4       0.67      0.86      0.76       591\n",
            "           5       0.00      0.00      0.00        11\n",
            "           6       0.73      0.35      0.47       141\n",
            "           7       0.50      0.03      0.05        38\n",
            "\n",
            "    accuracy                           0.69      1574\n",
            "   macro avg       0.56      0.33      0.36      1574\n",
            "weighted avg       0.69      0.69      0.66      1574\n",
            "\n",
            "[[ 79   0  30   0  29   0   0   0]\n",
            " [  0   0   8   0   8   0   0   0]\n",
            " [  3   0 444   0 137   0  10   0]\n",
            " [  0   0  27   5   8   0   4   1]\n",
            " [  4   0  76   0 508   0   3   0]\n",
            " [  0   0   7   0   4   0   0   0]\n",
            " [  1   0  54   0  37   0  49   0]\n",
            " [  2   0  12   0  22   0   1   1]]\n"
          ],
          "name": "stdout"
        },
        {
          "output_type": "stream",
          "text": [
            "/usr/local/lib/python3.7/dist-packages/sklearn/linear_model/_logistic.py:940: ConvergenceWarning: lbfgs failed to converge (status=1):\n",
            "STOP: TOTAL NO. of ITERATIONS REACHED LIMIT.\n",
            "\n",
            "Increase the number of iterations (max_iter) or scale the data as shown in:\n",
            "    https://scikit-learn.org/stable/modules/preprocessing.html\n",
            "Please also refer to the documentation for alternative solver options:\n",
            "    https://scikit-learn.org/stable/modules/linear_model.html#logistic-regression\n",
            "  extra_warning_msg=_LOGISTIC_SOLVER_CONVERGENCE_MSG)\n",
            "/usr/local/lib/python3.7/dist-packages/sklearn/metrics/_classification.py:1272: UndefinedMetricWarning: Precision and F-score are ill-defined and being set to 0.0 in labels with no predicted samples. Use `zero_division` parameter to control this behavior.\n",
            "  _warn_prf(average, modifier, msg_start, len(result))\n"
          ],
          "name": "stderr"
        }
      ]
    },
    {
      "cell_type": "code",
      "metadata": {
        "id": "1s6EZDJBCwF3",
        "colab": {
          "base_uri": "https://localhost:8080/"
        },
        "outputId": "7eec985a-827c-4bc9-d27a-f9440aa89b59"
      },
      "source": [
        "from sklearn.ensemble import RandomForestClassifier\n",
        "\n",
        "le = LabelEncoder()\n",
        "y_train= le.fit_transform(y_train)\n",
        "y_test= le.fit_transform(y_test)\n",
        "\n",
        "ModeRF=RandomForestClassifier(max_depth=2)\n",
        "\n",
        "ModeRF.fit(tfidf_train,y_train)\n",
        "\n",
        "y_pred=ModeRF.predict(tfidf_test)\n",
        "\n",
        "\n",
        "score=accuracy_score(y_test,y_pred)\n",
        "\n",
        "print(f'Accuracy: {round(score*100,2)}%')\n",
        "print(classification_report(y_test, y_pred))\n",
        "print(confusion_matrix(y_test, y_pred))\n"
      ],
      "execution_count": null,
      "outputs": [
        {
          "output_type": "stream",
          "text": [
            "Accuracy: 38.82%\n",
            "              precision    recall  f1-score   support\n",
            "\n",
            "           0       0.00      0.00      0.00       138\n",
            "           1       0.00      0.00      0.00        16\n",
            "           2       0.91      0.03      0.06       594\n",
            "           3       0.00      0.00      0.00        45\n",
            "           4       0.38      1.00      0.55       591\n",
            "           5       0.00      0.00      0.00        11\n",
            "           6       0.00      0.00      0.00       141\n",
            "           7       0.00      0.00      0.00        38\n",
            "\n",
            "    accuracy                           0.39      1574\n",
            "   macro avg       0.16      0.13      0.08      1574\n",
            "weighted avg       0.49      0.39      0.23      1574\n",
            "\n",
            "[[  0   0   1   0 137   0   0   0]\n",
            " [  0   0   0   0  16   0   0   0]\n",
            " [  0   0  20   0 574   0   0   0]\n",
            " [  0   0   1   0  44   0   0   0]\n",
            " [  0   0   0   0 591   0   0   0]\n",
            " [  0   0   0   0  11   0   0   0]\n",
            " [  0   0   0   0 141   0   0   0]\n",
            " [  0   0   0   0  38   0   0   0]]\n"
          ],
          "name": "stdout"
        },
        {
          "output_type": "stream",
          "text": [
            "/usr/local/lib/python3.7/dist-packages/sklearn/metrics/_classification.py:1272: UndefinedMetricWarning: Precision and F-score are ill-defined and being set to 0.0 in labels with no predicted samples. Use `zero_division` parameter to control this behavior.\n",
            "  _warn_prf(average, modifier, msg_start, len(result))\n"
          ],
          "name": "stderr"
        }
      ]
    },
    {
      "cell_type": "code",
      "metadata": {
        "colab": {
          "base_uri": "https://localhost:8080/"
        },
        "id": "5CNb4yYxJomt",
        "outputId": "2b80b5b3-68ec-477a-d786-d5677e4410b6"
      },
      "source": [
        "from sklearn.tree import DecisionTreeClassifier\n",
        "le = LabelEncoder()\n",
        "y_train= le.fit_transform(y_train)\n",
        "y_test= le.fit_transform(y_test)\n",
        "ModelDT = DecisionTreeClassifier()\n",
        "\n",
        "\n",
        "\n",
        "ModelDT.fit(tfidf_train,y_train)\n",
        "\n",
        "y_pred=ModelDT.predict(tfidf_test)\n",
        "\n",
        "\n",
        "score=accuracy_score(y_test,y_pred)\n",
        "\n",
        "print(f'Accuracy: {round(score*100,2)}%')\n",
        "print(classification_report(y_test, y_pred))\n",
        "print(confusion_matrix(y_test, y_pred))\n"
      ],
      "execution_count": null,
      "outputs": [
        {
          "output_type": "stream",
          "text": [
            "Accuracy: 56.16%\n",
            "              precision    recall  f1-score   support\n",
            "\n",
            "           0       0.72      0.46      0.56       138\n",
            "           1       0.05      0.06      0.06        16\n",
            "           2       0.56      0.64      0.60       594\n",
            "           3       0.32      0.27      0.29        45\n",
            "           4       0.61      0.62      0.61       591\n",
            "           5       0.00      0.00      0.00        11\n",
            "           6       0.51      0.40      0.45       141\n",
            "           7       0.19      0.13      0.15        38\n",
            "\n",
            "    accuracy                           0.56      1574\n",
            "   macro avg       0.37      0.32      0.34      1574\n",
            "weighted avg       0.56      0.56      0.56      1574\n",
            "\n",
            "[[ 63   4  29   3  35   1   3   0]\n",
            " [  1   1   7   0   5   0   1   1]\n",
            " [ 12   3 379  11 156   5  23   5]\n",
            " [  0   3  14  12   5   2   5   4]\n",
            " [  9   6 174   8 367   2  19   6]\n",
            " [  1   0   5   0   3   0   0   2]\n",
            " [  1   1  51   3  21   3  57   4]\n",
            " [  1   1  15   0  12   1   3   5]]\n"
          ],
          "name": "stdout"
        }
      ]
    },
    {
      "cell_type": "code",
      "metadata": {
        "colab": {
          "base_uri": "https://localhost:8080/"
        },
        "id": "TblIraxXN1UZ",
        "outputId": "5dc6116f-9b23-4567-ba6b-89e4d8c052dc"
      },
      "source": [
        "from sklearn.neighbors import KNeighborsClassifier\n",
        "\n",
        "\n",
        "le = LabelEncoder()\n",
        "y_train= le.fit_transform(y_train)\n",
        "y_test= le.fit_transform(y_test)\n",
        "\n",
        "\n",
        "modelLR = KNeighborsClassifier(n_neighbors=1)\n",
        "\n",
        "modelLR.fit(tfidf_train,y_train)\n",
        "\n",
        "y_pred=modelLR.predict(tfidf_test)\n",
        "\n",
        "score=accuracy_score(y_test,y_pred)\n",
        "\n",
        "print(f'Accuracy: {round(score*100,2)}%')\n",
        "print(classification_report(y_test, y_pred))\n",
        "print(confusion_matrix(y_test, y_pred))"
      ],
      "execution_count": null,
      "outputs": [
        {
          "output_type": "stream",
          "text": [
            "Accuracy: 43.27%\n",
            "              precision    recall  f1-score   support\n",
            "\n",
            "           0       0.82      0.17      0.28       138\n",
            "           1       0.00      0.00      0.00        16\n",
            "           2       0.40      0.97      0.57       594\n",
            "           3       0.33      0.04      0.08        45\n",
            "           4       0.83      0.11      0.19       591\n",
            "           5       1.00      0.09      0.17        11\n",
            "           6       0.75      0.09      0.15       141\n",
            "           7       0.67      0.11      0.18        38\n",
            "\n",
            "    accuracy                           0.43      1574\n",
            "   macro avg       0.60      0.20      0.20      1574\n",
            "weighted avg       0.63      0.43      0.33      1574\n",
            "\n",
            "[[ 23   0 112   0   2   0   1   0]\n",
            " [  0   0  16   0   0   0   0   0]\n",
            " [  4   0 575   3   8   0   3   1]\n",
            " [  0   0  43   2   0   0   0   0]\n",
            " [  0   0 525   1  64   0   0   1]\n",
            " [  0   0   9   0   1   1   0   0]\n",
            " [  0   0 127   0   2   0  12   0]\n",
            " [  1   0  33   0   0   0   0   4]]\n"
          ],
          "name": "stdout"
        },
        {
          "output_type": "stream",
          "text": [
            "/usr/local/lib/python3.7/dist-packages/sklearn/metrics/_classification.py:1272: UndefinedMetricWarning: Precision and F-score are ill-defined and being set to 0.0 in labels with no predicted samples. Use `zero_division` parameter to control this behavior.\n",
            "  _warn_prf(average, modifier, msg_start, len(result))\n"
          ],
          "name": "stderr"
        }
      ]
    },
    {
      "cell_type": "code",
      "metadata": {
        "colab": {
          "base_uri": "https://localhost:8080/",
          "height": 391
        },
        "id": "xhx69bJ7PWHU",
        "outputId": "2ec460de-36e2-45b9-9d87-f3f66baaa910"
      },
      "source": [
        "from sklearn.naive_bayes import GaussianNB\n",
        "le = LabelEncoder()\n",
        "y_train= le.fit_transform(y_train)\n",
        "y_test= le.fit_transform(y_test)\n",
        "\n",
        "modelLR = GaussianNB()\n",
        "\n",
        "\n",
        "modelLR.fit(tfidf_train,y_train)\n",
        "\n",
        "y_pred=modelLR.predict(tfidf_test)\n",
        "\n",
        "score=accuracy_score(y_test,y_pred)\n",
        "\n",
        "print(f'Accuracy: {round(score*100,2)}%')\n",
        "print(classification_report(y_test, y_pred))\n",
        "print(confusion_matrix(y_test, y_pred))"
      ],
      "execution_count": null,
      "outputs": [
        {
          "output_type": "error",
          "ename": "TypeError",
          "evalue": "ignored",
          "traceback": [
            "\u001b[0;31m---------------------------------------------------------------------------\u001b[0m",
            "\u001b[0;31mTypeError\u001b[0m                                 Traceback (most recent call last)",
            "\u001b[0;32m<ipython-input-88-adfe862b5c32>\u001b[0m in \u001b[0;36m<module>\u001b[0;34m()\u001b[0m\n\u001b[1;32m      7\u001b[0m \u001b[0;34m\u001b[0m\u001b[0m\n\u001b[1;32m      8\u001b[0m \u001b[0;34m\u001b[0m\u001b[0m\n\u001b[0;32m----> 9\u001b[0;31m \u001b[0mmodelLR\u001b[0m\u001b[0;34m.\u001b[0m\u001b[0mfit\u001b[0m\u001b[0;34m(\u001b[0m\u001b[0mtfidf_train\u001b[0m\u001b[0;34m,\u001b[0m\u001b[0my_train\u001b[0m\u001b[0;34m)\u001b[0m\u001b[0;34m\u001b[0m\u001b[0;34m\u001b[0m\u001b[0m\n\u001b[0m\u001b[1;32m     10\u001b[0m \u001b[0;34m\u001b[0m\u001b[0m\n\u001b[1;32m     11\u001b[0m \u001b[0my_pred\u001b[0m\u001b[0;34m=\u001b[0m\u001b[0mmodelLR\u001b[0m\u001b[0;34m.\u001b[0m\u001b[0mpredict\u001b[0m\u001b[0;34m(\u001b[0m\u001b[0mtfidf_test\u001b[0m\u001b[0;34m)\u001b[0m\u001b[0;34m\u001b[0m\u001b[0;34m\u001b[0m\u001b[0m\n",
            "\u001b[0;32m/usr/local/lib/python3.7/dist-packages/sklearn/naive_bayes.py\u001b[0m in \u001b[0;36mfit\u001b[0;34m(self, X, y, sample_weight)\u001b[0m\n\u001b[1;32m    206\u001b[0m         \u001b[0my\u001b[0m \u001b[0;34m=\u001b[0m \u001b[0mcolumn_or_1d\u001b[0m\u001b[0;34m(\u001b[0m\u001b[0my\u001b[0m\u001b[0;34m,\u001b[0m \u001b[0mwarn\u001b[0m\u001b[0;34m=\u001b[0m\u001b[0;32mTrue\u001b[0m\u001b[0;34m)\u001b[0m\u001b[0;34m\u001b[0m\u001b[0;34m\u001b[0m\u001b[0m\n\u001b[1;32m    207\u001b[0m         return self._partial_fit(X, y, np.unique(y), _refit=True,\n\u001b[0;32m--> 208\u001b[0;31m                                  sample_weight=sample_weight)\n\u001b[0m\u001b[1;32m    209\u001b[0m \u001b[0;34m\u001b[0m\u001b[0m\n\u001b[1;32m    210\u001b[0m     \u001b[0;32mdef\u001b[0m \u001b[0m_check_X\u001b[0m\u001b[0;34m(\u001b[0m\u001b[0mself\u001b[0m\u001b[0;34m,\u001b[0m \u001b[0mX\u001b[0m\u001b[0;34m)\u001b[0m\u001b[0;34m:\u001b[0m\u001b[0;34m\u001b[0m\u001b[0;34m\u001b[0m\u001b[0m\n",
            "\u001b[0;32m/usr/local/lib/python3.7/dist-packages/sklearn/naive_bayes.py\u001b[0m in \u001b[0;36m_partial_fit\u001b[0;34m(self, X, y, classes, _refit, sample_weight)\u001b[0m\n\u001b[1;32m    357\u001b[0m         \u001b[0mself\u001b[0m \u001b[0;34m:\u001b[0m \u001b[0mobject\u001b[0m\u001b[0;34m\u001b[0m\u001b[0;34m\u001b[0m\u001b[0m\n\u001b[1;32m    358\u001b[0m         \"\"\"\n\u001b[0;32m--> 359\u001b[0;31m         \u001b[0mX\u001b[0m\u001b[0;34m,\u001b[0m \u001b[0my\u001b[0m \u001b[0;34m=\u001b[0m \u001b[0mcheck_X_y\u001b[0m\u001b[0;34m(\u001b[0m\u001b[0mX\u001b[0m\u001b[0;34m,\u001b[0m \u001b[0my\u001b[0m\u001b[0;34m)\u001b[0m\u001b[0;34m\u001b[0m\u001b[0;34m\u001b[0m\u001b[0m\n\u001b[0m\u001b[1;32m    360\u001b[0m         \u001b[0;32mif\u001b[0m \u001b[0msample_weight\u001b[0m \u001b[0;32mis\u001b[0m \u001b[0;32mnot\u001b[0m \u001b[0;32mNone\u001b[0m\u001b[0;34m:\u001b[0m\u001b[0;34m\u001b[0m\u001b[0;34m\u001b[0m\u001b[0m\n\u001b[1;32m    361\u001b[0m             \u001b[0msample_weight\u001b[0m \u001b[0;34m=\u001b[0m \u001b[0m_check_sample_weight\u001b[0m\u001b[0;34m(\u001b[0m\u001b[0msample_weight\u001b[0m\u001b[0;34m,\u001b[0m \u001b[0mX\u001b[0m\u001b[0;34m)\u001b[0m\u001b[0;34m\u001b[0m\u001b[0;34m\u001b[0m\u001b[0m\n",
            "\u001b[0;32m/usr/local/lib/python3.7/dist-packages/sklearn/utils/validation.py\u001b[0m in \u001b[0;36mcheck_X_y\u001b[0;34m(X, y, accept_sparse, accept_large_sparse, dtype, order, copy, force_all_finite, ensure_2d, allow_nd, multi_output, ensure_min_samples, ensure_min_features, y_numeric, warn_on_dtype, estimator)\u001b[0m\n\u001b[1;32m    753\u001b[0m                     \u001b[0mensure_min_features\u001b[0m\u001b[0;34m=\u001b[0m\u001b[0mensure_min_features\u001b[0m\u001b[0;34m,\u001b[0m\u001b[0;34m\u001b[0m\u001b[0;34m\u001b[0m\u001b[0m\n\u001b[1;32m    754\u001b[0m                     \u001b[0mwarn_on_dtype\u001b[0m\u001b[0;34m=\u001b[0m\u001b[0mwarn_on_dtype\u001b[0m\u001b[0;34m,\u001b[0m\u001b[0;34m\u001b[0m\u001b[0;34m\u001b[0m\u001b[0m\n\u001b[0;32m--> 755\u001b[0;31m                     estimator=estimator)\n\u001b[0m\u001b[1;32m    756\u001b[0m     \u001b[0;32mif\u001b[0m \u001b[0mmulti_output\u001b[0m\u001b[0;34m:\u001b[0m\u001b[0;34m\u001b[0m\u001b[0;34m\u001b[0m\u001b[0m\n\u001b[1;32m    757\u001b[0m         y = check_array(y, 'csr', force_all_finite=True, ensure_2d=False,\n",
            "\u001b[0;32m/usr/local/lib/python3.7/dist-packages/sklearn/utils/validation.py\u001b[0m in \u001b[0;36mcheck_array\u001b[0;34m(array, accept_sparse, accept_large_sparse, dtype, order, copy, force_all_finite, ensure_2d, allow_nd, ensure_min_samples, ensure_min_features, warn_on_dtype, estimator)\u001b[0m\n\u001b[1;32m    509\u001b[0m                                       \u001b[0mdtype\u001b[0m\u001b[0;34m=\u001b[0m\u001b[0mdtype\u001b[0m\u001b[0;34m,\u001b[0m \u001b[0mcopy\u001b[0m\u001b[0;34m=\u001b[0m\u001b[0mcopy\u001b[0m\u001b[0;34m,\u001b[0m\u001b[0;34m\u001b[0m\u001b[0;34m\u001b[0m\u001b[0m\n\u001b[1;32m    510\u001b[0m                                       \u001b[0mforce_all_finite\u001b[0m\u001b[0;34m=\u001b[0m\u001b[0mforce_all_finite\u001b[0m\u001b[0;34m,\u001b[0m\u001b[0;34m\u001b[0m\u001b[0;34m\u001b[0m\u001b[0m\n\u001b[0;32m--> 511\u001b[0;31m                                       accept_large_sparse=accept_large_sparse)\n\u001b[0m\u001b[1;32m    512\u001b[0m     \u001b[0;32melse\u001b[0m\u001b[0;34m:\u001b[0m\u001b[0;34m\u001b[0m\u001b[0;34m\u001b[0m\u001b[0m\n\u001b[1;32m    513\u001b[0m         \u001b[0;31m# If np.array(..) gives ComplexWarning, then we convert the warning\u001b[0m\u001b[0;34m\u001b[0m\u001b[0;34m\u001b[0m\u001b[0;34m\u001b[0m\u001b[0m\n",
            "\u001b[0;32m/usr/local/lib/python3.7/dist-packages/sklearn/utils/validation.py\u001b[0m in \u001b[0;36m_ensure_sparse_format\u001b[0;34m(spmatrix, accept_sparse, dtype, copy, force_all_finite, accept_large_sparse)\u001b[0m\n\u001b[1;32m    304\u001b[0m \u001b[0;34m\u001b[0m\u001b[0m\n\u001b[1;32m    305\u001b[0m     \u001b[0;32mif\u001b[0m \u001b[0maccept_sparse\u001b[0m \u001b[0;32mis\u001b[0m \u001b[0;32mFalse\u001b[0m\u001b[0;34m:\u001b[0m\u001b[0;34m\u001b[0m\u001b[0;34m\u001b[0m\u001b[0m\n\u001b[0;32m--> 306\u001b[0;31m         raise TypeError('A sparse matrix was passed, but dense '\n\u001b[0m\u001b[1;32m    307\u001b[0m                         \u001b[0;34m'data is required. Use X.toarray() to '\u001b[0m\u001b[0;34m\u001b[0m\u001b[0;34m\u001b[0m\u001b[0m\n\u001b[1;32m    308\u001b[0m                         'convert to a dense numpy array.')\n",
            "\u001b[0;31mTypeError\u001b[0m: A sparse matrix was passed, but dense data is required. Use X.toarray() to convert to a dense numpy array."
          ]
        }
      ]
    },
    {
      "cell_type": "code",
      "metadata": {
        "colab": {
          "base_uri": "https://localhost:8080/"
        },
        "id": "TqvlN6EqPp_a",
        "outputId": "c95a5ddb-ed87-4648-f2cc-a4f91870a993"
      },
      "source": [
        "from sklearn.svm import LinearSVC\n",
        "\n",
        "le = LabelEncoder()\n",
        "y_train= le.fit_transform(y_train)\n",
        "y_test= le.fit_transform(y_test)\n",
        "\n",
        "modelLR = LinearSVC()\n",
        "\n",
        "\n",
        "modelLR.fit(tfidf_train,y_train)\n",
        "\n",
        "y_pred=modelLR.predict(tfidf_test)\n",
        "\n",
        "score=accuracy_score(y_test,y_pred)\n",
        "\n",
        "print(f'Accuracy: {round(score*100,2)}%')\n",
        "print(classification_report(y_test, y_pred))\n",
        "print(confusion_matrix(y_test, y_pred))"
      ],
      "execution_count": null,
      "outputs": [
        {
          "output_type": "stream",
          "text": [
            "Accuracy: 73.19%\n",
            "              precision    recall  f1-score   support\n",
            "\n",
            "           0       0.88      0.75      0.81       138\n",
            "           1       0.00      0.00      0.00        16\n",
            "           2       0.73      0.76      0.75       594\n",
            "           3       0.57      0.29      0.38        45\n",
            "           4       0.72      0.85      0.78       591\n",
            "           5       1.00      0.09      0.17        11\n",
            "           6       0.74      0.55      0.63       141\n",
            "           7       0.29      0.13      0.18        38\n",
            "\n",
            "    accuracy                           0.73      1574\n",
            "   macro avg       0.62      0.43      0.46      1574\n",
            "weighted avg       0.72      0.73      0.72      1574\n",
            "\n",
            "[[103   0  14   0  18   0   1   2]\n",
            " [  0   0   6   1   8   0   0   1]\n",
            " [  5   0 451   2 116   0  15   5]\n",
            " [  0   0  19  13   8   0   4   1]\n",
            " [  5   0  73   5 501   0   5   2]\n",
            " [  0   0   6   0   3   1   0   1]\n",
            " [  1   0  32   2  28   0  78   0]\n",
            " [  3   0  13   0  14   0   3   5]]\n"
          ],
          "name": "stdout"
        },
        {
          "output_type": "stream",
          "text": [
            "/usr/local/lib/python3.7/dist-packages/sklearn/metrics/_classification.py:1272: UndefinedMetricWarning: Precision and F-score are ill-defined and being set to 0.0 in labels with no predicted samples. Use `zero_division` parameter to control this behavior.\n",
            "  _warn_prf(average, modifier, msg_start, len(result))\n"
          ],
          "name": "stderr"
        }
      ]
    },
    {
      "cell_type": "code",
      "metadata": {
        "id": "8XE07coQTTbt",
        "colab": {
          "base_uri": "https://localhost:8080/"
        },
        "outputId": "90d26126-093b-4050-e6f4-39173ba6b65f"
      },
      "source": [
        "from sklearn.svm import SVC\n",
        "\n",
        "le = LabelEncoder()\n",
        "y_train= le.fit_transform(y_train)\n",
        "y_test= le.fit_transform(y_test)\n",
        "\n",
        "modelLR = SVC()\n",
        "\n",
        "\n",
        "modelLR.fit(tfidf_train,y_train)\n",
        "\n",
        "y_pred=modelLR.predict(tfidf_test)\n",
        "\n",
        "score=accuracy_score(y_test,y_pred)\n",
        "\n",
        "print(f'Accuracy: {round(score*100,2)}%')\n",
        "print(classification_report(y_test, y_pred))\n",
        "print(confusion_matrix(y_test, y_pred))"
      ],
      "execution_count": null,
      "outputs": [
        {
          "output_type": "stream",
          "text": [
            "Accuracy: 67.66%\n",
            "              precision    recall  f1-score   support\n",
            "\n",
            "           0       0.89      0.56      0.68       138\n",
            "           1       0.00      0.00      0.00        16\n",
            "           2       0.67      0.72      0.69       594\n",
            "           3       0.75      0.07      0.12        45\n",
            "           4       0.65      0.87      0.75       591\n",
            "           5       0.00      0.00      0.00        11\n",
            "           6       0.75      0.33      0.46       141\n",
            "           7       0.50      0.03      0.05        38\n",
            "\n",
            "    accuracy                           0.68      1574\n",
            "   macro avg       0.53      0.32      0.34      1574\n",
            "weighted avg       0.68      0.68      0.65      1574\n",
            "\n",
            "[[ 77   0  32   0  28   0   1   0]\n",
            " [  0   0   8   0   8   0   0   0]\n",
            " [  6   0 426   0 156   0   6   0]\n",
            " [  0   0  28   3   9   0   4   1]\n",
            " [  3   0  72   1 512   0   3   0]\n",
            " [  0   0   7   0   4   0   0   0]\n",
            " [  0   0  54   0  41   0  46   0]\n",
            " [  1   0  11   0  24   0   1   1]]\n"
          ],
          "name": "stdout"
        },
        {
          "output_type": "stream",
          "text": [
            "/usr/local/lib/python3.7/dist-packages/sklearn/metrics/_classification.py:1272: UndefinedMetricWarning: Precision and F-score are ill-defined and being set to 0.0 in labels with no predicted samples. Use `zero_division` parameter to control this behavior.\n",
            "  _warn_prf(average, modifier, msg_start, len(result))\n"
          ],
          "name": "stderr"
        }
      ]
    },
    {
      "cell_type": "code",
      "metadata": {
        "colab": {
          "base_uri": "https://localhost:8080/"
        },
        "id": "uBXYFTbsP3Vd",
        "outputId": "db63c330-5e48-4623-bb58-503ddb3e70e7"
      },
      "source": [
        "from sklearn.neighbors import  RadiusNeighborsClassifier\n",
        "\n",
        "le = LabelEncoder()\n",
        "y_train= le.fit_transform(y_train)\n",
        "y_test= le.fit_transform(y_test)\n",
        "\n",
        "modelLR=RadiusNeighborsClassifier(radius=8.0)\n",
        "\n",
        "\n",
        "modelLR.fit(tfidf_train,y_train)\n",
        "\n",
        "y_pred=modelLR.predict(tfidf_test)\n",
        "\n",
        "score=accuracy_score(y_test,y_pred)\n",
        "\n",
        "print(f'Accuracy: {round(score*100,2)}%')\n",
        "print(classification_report(y_test, y_pred))\n",
        "print(confusion_matrix(y_test, y_pred))"
      ],
      "execution_count": null,
      "outputs": [
        {
          "output_type": "stream",
          "text": [
            "Accuracy: 37.55%\n",
            "              precision    recall  f1-score   support\n",
            "\n",
            "           0       0.00      0.00      0.00       138\n",
            "           1       0.00      0.00      0.00        16\n",
            "           2       0.00      0.00      0.00       594\n",
            "           3       0.00      0.00      0.00        45\n",
            "           4       0.38      1.00      0.55       591\n",
            "           5       0.00      0.00      0.00        11\n",
            "           6       0.00      0.00      0.00       141\n",
            "           7       0.00      0.00      0.00        38\n",
            "\n",
            "    accuracy                           0.38      1574\n",
            "   macro avg       0.05      0.12      0.07      1574\n",
            "weighted avg       0.14      0.38      0.20      1574\n",
            "\n",
            "[[  0   0   0   0 138   0   0   0]\n",
            " [  0   0   0   0  16   0   0   0]\n",
            " [  0   0   0   0 594   0   0   0]\n",
            " [  0   0   0   0  45   0   0   0]\n",
            " [  0   0   0   0 591   0   0   0]\n",
            " [  0   0   0   0  11   0   0   0]\n",
            " [  0   0   0   0 141   0   0   0]\n",
            " [  0   0   0   0  38   0   0   0]]\n"
          ],
          "name": "stdout"
        },
        {
          "output_type": "stream",
          "text": [
            "/usr/local/lib/python3.7/dist-packages/sklearn/metrics/_classification.py:1272: UndefinedMetricWarning: Precision and F-score are ill-defined and being set to 0.0 in labels with no predicted samples. Use `zero_division` parameter to control this behavior.\n",
            "  _warn_prf(average, modifier, msg_start, len(result))\n"
          ],
          "name": "stderr"
        }
      ]
    },
    {
      "cell_type": "code",
      "metadata": {
        "colab": {
          "base_uri": "https://localhost:8080/"
        },
        "id": "gAVvoWMrQA7k",
        "outputId": "a42bcd66-b958-4327-a3e8-564817645e8d"
      },
      "source": [
        "from sklearn.naive_bayes import BernoulliNB\n",
        "\n",
        "\n",
        "\n",
        "\n",
        "le = LabelEncoder()\n",
        "y_train= le.fit_transform(y_train)\n",
        "y_test= le.fit_transform(y_test)\n",
        "\n",
        "\n",
        "modelLR = BernoulliNB()\n",
        "\n",
        "modelLR.fit(tfidf_train,y_train)\n",
        "\n",
        "y_pred=modelLR.predict(tfidf_test)\n",
        "\n",
        "score=accuracy_score(y_test,y_pred)\n",
        "\n",
        "print(f'Accuracy: {round(score*100,2)}%')\n",
        "print(classification_report(y_test, y_pred))\n",
        "print(confusion_matrix(y_test, y_pred))"
      ],
      "execution_count": null,
      "outputs": [
        {
          "output_type": "stream",
          "text": [
            "Accuracy: 62.77%\n",
            "              precision    recall  f1-score   support\n",
            "\n",
            "           0       0.00      0.00      0.00       138\n",
            "           1       0.00      0.00      0.00        16\n",
            "           2       0.56      0.84      0.67       594\n",
            "           3       0.00      0.00      0.00        45\n",
            "           4       0.71      0.83      0.77       591\n",
            "           5       0.00      0.00      0.00        11\n",
            "           6       0.00      0.00      0.00       141\n",
            "           7       0.00      0.00      0.00        38\n",
            "\n",
            "    accuracy                           0.63      1574\n",
            "   macro avg       0.16      0.21      0.18      1574\n",
            "weighted avg       0.48      0.63      0.54      1574\n",
            "\n",
            "[[  0   0 105   0  33   0   0   0]\n",
            " [  0   0  11   0   5   0   0   0]\n",
            " [  0   0 498   0  96   0   0   0]\n",
            " [  0   0  38   0   7   0   0   0]\n",
            " [  0   0 101   0 490   0   0   0]\n",
            " [  0   0   7   0   4   0   0   0]\n",
            " [  0   0 106   0  35   0   0   0]\n",
            " [  0   0  20   0  18   0   0   0]]\n"
          ],
          "name": "stdout"
        },
        {
          "output_type": "stream",
          "text": [
            "/usr/local/lib/python3.7/dist-packages/sklearn/metrics/_classification.py:1272: UndefinedMetricWarning: Precision and F-score are ill-defined and being set to 0.0 in labels with no predicted samples. Use `zero_division` parameter to control this behavior.\n",
            "  _warn_prf(average, modifier, msg_start, len(result))\n"
          ],
          "name": "stderr"
        }
      ]
    },
    {
      "cell_type": "code",
      "metadata": {
        "colab": {
          "base_uri": "https://localhost:8080/"
        },
        "id": "IwMe5D2bQEak",
        "outputId": "379ecf5b-4f0e-44b3-9f83-1f89589d59fa"
      },
      "source": [
        "from sklearn.tree import ExtraTreeClassifier\n",
        "\n",
        "\n",
        "\n",
        "le = LabelEncoder()\n",
        "y_train= le.fit_transform(y_train)\n",
        "y_test= le.fit_transform(y_test)\n",
        "\n",
        "\n",
        "modelLR = ExtraTreeClassifier()\n",
        "\n",
        "modelLR.fit(tfidf_train,y_train)\n",
        "\n",
        "y_pred=modelLR.predict(tfidf_test)\n",
        "\n",
        "score=accuracy_score(y_test,y_pred)\n",
        "\n",
        "print(f'Accuracy: {round(score*100,2)}%')\n",
        "print(classification_report(y_test, y_pred))\n",
        "print(confusion_matrix(y_test, y_pred))"
      ],
      "execution_count": null,
      "outputs": [
        {
          "output_type": "stream",
          "text": [
            "Accuracy: 52.6%\n",
            "              precision    recall  f1-score   support\n",
            "\n",
            "           0       0.55      0.41      0.47       138\n",
            "           1       0.00      0.00      0.00        16\n",
            "           2       0.52      0.55      0.53       594\n",
            "           3       0.38      0.29      0.33        45\n",
            "           4       0.58      0.64      0.61       591\n",
            "           5       0.40      0.18      0.25        11\n",
            "           6       0.43      0.35      0.38       141\n",
            "           7       0.12      0.08      0.10        38\n",
            "\n",
            "    accuracy                           0.53      1574\n",
            "   macro avg       0.37      0.31      0.33      1574\n",
            "weighted avg       0.52      0.53      0.52      1574\n",
            "\n",
            "[[ 57   2  36   2  31   0   6   4]\n",
            " [  1   0   9   1   4   0   0   1]\n",
            " [ 28   8 327   9 179   1  34   8]\n",
            " [  0   1  16  13   6   0   6   3]\n",
            " [  9   5 176   4 377   0  18   2]\n",
            " [  1   0   5   0   3   2   0   0]\n",
            " [  4   1  46   3  33   2  49   3]\n",
            " [  4   0  15   2  13   0   1   3]]\n"
          ],
          "name": "stdout"
        }
      ]
    },
    {
      "cell_type": "code",
      "metadata": {
        "colab": {
          "base_uri": "https://localhost:8080/"
        },
        "id": "yuGf-5mJQIGj",
        "outputId": "e6ccc810-2a61-4b82-ae7b-cbc294c6d611"
      },
      "source": [
        "from sklearn.ensemble import BaggingClassifier\n",
        "\n",
        "\n",
        "\n",
        "\n",
        "\n",
        "le = LabelEncoder()\n",
        "y_train= le.fit_transform(y_train)\n",
        "y_test= le.fit_transform(y_test)\n",
        "\n",
        "\n",
        "modelLR =BaggingClassifier()\n",
        "\n",
        "modelLR.fit(tfidf_train,y_train)\n",
        "\n",
        "y_pred=modelLR.predict(tfidf_test)\n",
        "\n",
        "score=accuracy_score(y_test,y_pred)\n",
        "\n",
        "print(f'Accuracy: {round(score*100,2)}%')\n",
        "print(classification_report(y_test, y_pred))\n",
        "print(confusion_matrix(y_test, y_pred))"
      ],
      "execution_count": null,
      "outputs": [
        {
          "output_type": "stream",
          "text": [
            "Accuracy: 60.74%\n",
            "              precision    recall  f1-score   support\n",
            "\n",
            "           0       0.80      0.54      0.64       138\n",
            "           1       0.00      0.00      0.00        16\n",
            "           2       0.58      0.70      0.64       594\n",
            "           3       0.56      0.31      0.40        45\n",
            "           4       0.61      0.67      0.64       591\n",
            "           5       0.00      0.00      0.00        11\n",
            "           6       0.70      0.38      0.49       141\n",
            "           7       0.27      0.11      0.15        38\n",
            "\n",
            "    accuracy                           0.61      1574\n",
            "   macro avg       0.44      0.34      0.37      1574\n",
            "weighted avg       0.60      0.61      0.59      1574\n",
            "\n",
            "[[ 74   0  28   2  33   0   1   0]\n",
            " [  1   0   9   0   5   0   0   1]\n",
            " [  9   0 416   3 156   0  10   0]\n",
            " [  0   0  14  14   8   0   5   4]\n",
            " [  5   0 180   3 395   0   6   2]\n",
            " [  0   0   4   0   5   0   0   2]\n",
            " [  1   0  50   3  32   0  53   2]\n",
            " [  3   0  14   0  16   0   1   4]]\n"
          ],
          "name": "stdout"
        },
        {
          "output_type": "stream",
          "text": [
            "/usr/local/lib/python3.7/dist-packages/sklearn/metrics/_classification.py:1272: UndefinedMetricWarning: Precision and F-score are ill-defined and being set to 0.0 in labels with no predicted samples. Use `zero_division` parameter to control this behavior.\n",
            "  _warn_prf(average, modifier, msg_start, len(result))\n"
          ],
          "name": "stderr"
        }
      ]
    },
    {
      "cell_type": "code",
      "metadata": {
        "colab": {
          "base_uri": "https://localhost:8080/"
        },
        "id": "6gGdnPLXQKyD",
        "outputId": "22a2f3df-b38c-4731-876a-c73df0a1fcc3"
      },
      "source": [
        "from sklearn.ensemble import AdaBoostClassifier\n",
        "\n",
        "\n",
        "\n",
        "\n",
        "\n",
        "le = LabelEncoder()\n",
        "y_train= le.fit_transform(y_train)\n",
        "y_test= le.fit_transform(y_test)\n",
        "\n",
        "\n",
        "modelLR = AdaBoostClassifier()\n",
        "\n",
        "modelLR.fit(tfidf_train,y_train)\n",
        "\n",
        "y_pred=modelLR.predict(tfidf_test)\n",
        "\n",
        "score=accuracy_score(y_test,y_pred)\n",
        "\n",
        "print(f'Accuracy: {round(score*100,2)}%')\n",
        "print(classification_report(y_test, y_pred))\n",
        "print(confusion_matrix(y_test, y_pred))"
      ],
      "execution_count": null,
      "outputs": [
        {
          "output_type": "stream",
          "text": [
            "Accuracy: 44.35%\n",
            "              precision    recall  f1-score   support\n",
            "\n",
            "           0       0.74      0.27      0.39       138\n",
            "           1       0.38      0.19      0.25        16\n",
            "           2       0.40      0.08      0.14       594\n",
            "           3       0.29      0.09      0.14        45\n",
            "           4       0.42      0.93      0.58       591\n",
            "           5       0.00      0.00      0.00        11\n",
            "           6       0.78      0.38      0.51       141\n",
            "           7       0.29      0.05      0.09        38\n",
            "\n",
            "    accuracy                           0.44      1574\n",
            "   macro avg       0.41      0.25      0.26      1574\n",
            "weighted avg       0.46      0.44      0.36      1574\n",
            "\n",
            "[[ 37   0  12   0  89   0   0   0]\n",
            " [  0   3   3   0   9   0   0   1]\n",
            " [  7   2  50   3 524   0   7   1]\n",
            " [  0   0  21   4  14   0   4   2]\n",
            " [  4   3  27   5 548   0   3   1]\n",
            " [  0   0   0   0  11   0   0   0]\n",
            " [  0   0   9   2  76   0  54   0]\n",
            " [  2   0   4   0  29   0   1   2]]\n"
          ],
          "name": "stdout"
        },
        {
          "output_type": "stream",
          "text": [
            "/usr/local/lib/python3.7/dist-packages/sklearn/metrics/_classification.py:1272: UndefinedMetricWarning: Precision and F-score are ill-defined and being set to 0.0 in labels with no predicted samples. Use `zero_division` parameter to control this behavior.\n",
            "  _warn_prf(average, modifier, msg_start, len(result))\n"
          ],
          "name": "stderr"
        }
      ]
    },
    {
      "cell_type": "code",
      "metadata": {
        "colab": {
          "base_uri": "https://localhost:8080/"
        },
        "id": "Mdzom_3lQN12",
        "outputId": "39ab37cb-42bf-439c-bcd2-681032222971"
      },
      "source": [
        "from sklearn.ensemble import GradientBoostingClassifier\n",
        "\n",
        "\n",
        "\n",
        "\n",
        "\n",
        "\n",
        "le = LabelEncoder()\n",
        "y_train= le.fit_transform(y_train)\n",
        "y_test= le.fit_transform(y_test)\n",
        "\n",
        "\n",
        "modelLR =GradientBoostingClassifier()\n",
        "\n",
        "modelLR.fit(tfidf_train,y_train)\n",
        "\n",
        "y_pred=modelLR.predict(tfidf_test)\n",
        "\n",
        "score=accuracy_score(y_test,y_pred)\n",
        "\n",
        "print(f'Accuracy: {round(score*100,2)}%')\n",
        "print(classification_report(y_test, y_pred))\n",
        "print(confusion_matrix(y_test, y_pred))"
      ],
      "execution_count": null,
      "outputs": [
        {
          "output_type": "stream",
          "text": [
            "Accuracy: 63.41%\n",
            "              precision    recall  f1-score   support\n",
            "\n",
            "           0       0.84      0.54      0.66       138\n",
            "           1       0.11      0.12      0.12        16\n",
            "           2       0.68      0.58      0.63       594\n",
            "           3       0.32      0.18      0.23        45\n",
            "           4       0.61      0.83      0.70       591\n",
            "           5       0.25      0.09      0.13        11\n",
            "           6       0.74      0.48      0.58       141\n",
            "           7       0.25      0.21      0.23        38\n",
            "\n",
            "    accuracy                           0.63      1574\n",
            "   macro avg       0.48      0.38      0.41      1574\n",
            "weighted avg       0.64      0.63      0.62      1574\n",
            "\n",
            "[[ 75   3  14   1  38   1   2   4]\n",
            " [  0   2   5   0   7   0   0   2]\n",
            " [  8   6 345   7 210   0  12   6]\n",
            " [  0   0  18   8  13   0   4   2]\n",
            " [  4   4  76   5 492   1   4   5]\n",
            " [  0   0   4   0   5   1   0   1]\n",
            " [  0   1  36   2  30   1  67   4]\n",
            " [  2   2   8   2  14   0   2   8]]\n"
          ],
          "name": "stdout"
        }
      ]
    },
    {
      "cell_type": "code",
      "metadata": {
        "colab": {
          "base_uri": "https://localhost:8080/",
          "height": 391
        },
        "id": "7oW_IWSZQQ4G",
        "outputId": "b2179943-683e-4655-f31c-648e52a0db55"
      },
      "source": [
        "from sklearn.discriminant_analysis import LinearDiscriminantAnalysis\n",
        "\n",
        "\n",
        "\n",
        "\n",
        "le = LabelEncoder()\n",
        "y_train= le.fit_transform(y_train)\n",
        "y_test= le.fit_transform(y_test)\n",
        "\n",
        "\n",
        "modelLR=LinearDiscriminantAnalysis()\n",
        "\n",
        "modelLR.fit(tfidf_train,y_train)\n",
        "\n",
        "y_pred=modelLR.predict(tfidf_test)\n",
        "\n",
        "score=accuracy_score(y_test,y_pred)\n",
        "\n",
        "print(f'Accuracy: {round(score*100,2)}%')\n",
        "print(classification_report(y_test, y_pred))\n",
        "print(confusion_matrix(y_test, y_pred))"
      ],
      "execution_count": null,
      "outputs": [
        {
          "output_type": "error",
          "ename": "TypeError",
          "evalue": "ignored",
          "traceback": [
            "\u001b[0;31m---------------------------------------------------------------------------\u001b[0m",
            "\u001b[0;31mTypeError\u001b[0m                                 Traceback (most recent call last)",
            "\u001b[0;32m<ipython-input-97-366510fed11e>\u001b[0m in \u001b[0;36m<module>\u001b[0;34m()\u001b[0m\n\u001b[1;32m     11\u001b[0m \u001b[0mmodelLR\u001b[0m\u001b[0;34m=\u001b[0m\u001b[0mLinearDiscriminantAnalysis\u001b[0m\u001b[0;34m(\u001b[0m\u001b[0;34m)\u001b[0m\u001b[0;34m\u001b[0m\u001b[0;34m\u001b[0m\u001b[0m\n\u001b[1;32m     12\u001b[0m \u001b[0;34m\u001b[0m\u001b[0m\n\u001b[0;32m---> 13\u001b[0;31m \u001b[0mmodelLR\u001b[0m\u001b[0;34m.\u001b[0m\u001b[0mfit\u001b[0m\u001b[0;34m(\u001b[0m\u001b[0mtfidf_train\u001b[0m\u001b[0;34m,\u001b[0m\u001b[0my_train\u001b[0m\u001b[0;34m)\u001b[0m\u001b[0;34m\u001b[0m\u001b[0;34m\u001b[0m\u001b[0m\n\u001b[0m\u001b[1;32m     14\u001b[0m \u001b[0;34m\u001b[0m\u001b[0m\n\u001b[1;32m     15\u001b[0m \u001b[0my_pred\u001b[0m\u001b[0;34m=\u001b[0m\u001b[0mmodelLR\u001b[0m\u001b[0;34m.\u001b[0m\u001b[0mpredict\u001b[0m\u001b[0;34m(\u001b[0m\u001b[0mtfidf_test\u001b[0m\u001b[0;34m)\u001b[0m\u001b[0;34m\u001b[0m\u001b[0;34m\u001b[0m\u001b[0m\n",
            "\u001b[0;32m/usr/local/lib/python3.7/dist-packages/sklearn/discriminant_analysis.py\u001b[0m in \u001b[0;36mfit\u001b[0;34m(self, X, y)\u001b[0m\n\u001b[1;32m    426\u001b[0m         \u001b[0;31m# FIXME: Future warning to be removed in 0.23\u001b[0m\u001b[0;34m\u001b[0m\u001b[0;34m\u001b[0m\u001b[0;34m\u001b[0m\u001b[0m\n\u001b[1;32m    427\u001b[0m         X, y = check_X_y(X, y, ensure_min_samples=2, estimator=self,\n\u001b[0;32m--> 428\u001b[0;31m                          dtype=[np.float64, np.float32])\n\u001b[0m\u001b[1;32m    429\u001b[0m         \u001b[0mself\u001b[0m\u001b[0;34m.\u001b[0m\u001b[0mclasses_\u001b[0m \u001b[0;34m=\u001b[0m \u001b[0munique_labels\u001b[0m\u001b[0;34m(\u001b[0m\u001b[0my\u001b[0m\u001b[0;34m)\u001b[0m\u001b[0;34m\u001b[0m\u001b[0;34m\u001b[0m\u001b[0m\n\u001b[1;32m    430\u001b[0m         \u001b[0mn_samples\u001b[0m\u001b[0;34m,\u001b[0m \u001b[0m_\u001b[0m \u001b[0;34m=\u001b[0m \u001b[0mX\u001b[0m\u001b[0;34m.\u001b[0m\u001b[0mshape\u001b[0m\u001b[0;34m\u001b[0m\u001b[0;34m\u001b[0m\u001b[0m\n",
            "\u001b[0;32m/usr/local/lib/python3.7/dist-packages/sklearn/utils/validation.py\u001b[0m in \u001b[0;36mcheck_X_y\u001b[0;34m(X, y, accept_sparse, accept_large_sparse, dtype, order, copy, force_all_finite, ensure_2d, allow_nd, multi_output, ensure_min_samples, ensure_min_features, y_numeric, warn_on_dtype, estimator)\u001b[0m\n\u001b[1;32m    753\u001b[0m                     \u001b[0mensure_min_features\u001b[0m\u001b[0;34m=\u001b[0m\u001b[0mensure_min_features\u001b[0m\u001b[0;34m,\u001b[0m\u001b[0;34m\u001b[0m\u001b[0;34m\u001b[0m\u001b[0m\n\u001b[1;32m    754\u001b[0m                     \u001b[0mwarn_on_dtype\u001b[0m\u001b[0;34m=\u001b[0m\u001b[0mwarn_on_dtype\u001b[0m\u001b[0;34m,\u001b[0m\u001b[0;34m\u001b[0m\u001b[0;34m\u001b[0m\u001b[0m\n\u001b[0;32m--> 755\u001b[0;31m                     estimator=estimator)\n\u001b[0m\u001b[1;32m    756\u001b[0m     \u001b[0;32mif\u001b[0m \u001b[0mmulti_output\u001b[0m\u001b[0;34m:\u001b[0m\u001b[0;34m\u001b[0m\u001b[0;34m\u001b[0m\u001b[0m\n\u001b[1;32m    757\u001b[0m         y = check_array(y, 'csr', force_all_finite=True, ensure_2d=False,\n",
            "\u001b[0;32m/usr/local/lib/python3.7/dist-packages/sklearn/utils/validation.py\u001b[0m in \u001b[0;36mcheck_array\u001b[0;34m(array, accept_sparse, accept_large_sparse, dtype, order, copy, force_all_finite, ensure_2d, allow_nd, ensure_min_samples, ensure_min_features, warn_on_dtype, estimator)\u001b[0m\n\u001b[1;32m    509\u001b[0m                                       \u001b[0mdtype\u001b[0m\u001b[0;34m=\u001b[0m\u001b[0mdtype\u001b[0m\u001b[0;34m,\u001b[0m \u001b[0mcopy\u001b[0m\u001b[0;34m=\u001b[0m\u001b[0mcopy\u001b[0m\u001b[0;34m,\u001b[0m\u001b[0;34m\u001b[0m\u001b[0;34m\u001b[0m\u001b[0m\n\u001b[1;32m    510\u001b[0m                                       \u001b[0mforce_all_finite\u001b[0m\u001b[0;34m=\u001b[0m\u001b[0mforce_all_finite\u001b[0m\u001b[0;34m,\u001b[0m\u001b[0;34m\u001b[0m\u001b[0;34m\u001b[0m\u001b[0m\n\u001b[0;32m--> 511\u001b[0;31m                                       accept_large_sparse=accept_large_sparse)\n\u001b[0m\u001b[1;32m    512\u001b[0m     \u001b[0;32melse\u001b[0m\u001b[0;34m:\u001b[0m\u001b[0;34m\u001b[0m\u001b[0;34m\u001b[0m\u001b[0m\n\u001b[1;32m    513\u001b[0m         \u001b[0;31m# If np.array(..) gives ComplexWarning, then we convert the warning\u001b[0m\u001b[0;34m\u001b[0m\u001b[0;34m\u001b[0m\u001b[0;34m\u001b[0m\u001b[0m\n",
            "\u001b[0;32m/usr/local/lib/python3.7/dist-packages/sklearn/utils/validation.py\u001b[0m in \u001b[0;36m_ensure_sparse_format\u001b[0;34m(spmatrix, accept_sparse, dtype, copy, force_all_finite, accept_large_sparse)\u001b[0m\n\u001b[1;32m    304\u001b[0m \u001b[0;34m\u001b[0m\u001b[0m\n\u001b[1;32m    305\u001b[0m     \u001b[0;32mif\u001b[0m \u001b[0maccept_sparse\u001b[0m \u001b[0;32mis\u001b[0m \u001b[0;32mFalse\u001b[0m\u001b[0;34m:\u001b[0m\u001b[0;34m\u001b[0m\u001b[0;34m\u001b[0m\u001b[0m\n\u001b[0;32m--> 306\u001b[0;31m         raise TypeError('A sparse matrix was passed, but dense '\n\u001b[0m\u001b[1;32m    307\u001b[0m                         \u001b[0;34m'data is required. Use X.toarray() to '\u001b[0m\u001b[0;34m\u001b[0m\u001b[0;34m\u001b[0m\u001b[0m\n\u001b[1;32m    308\u001b[0m                         'convert to a dense numpy array.')\n",
            "\u001b[0;31mTypeError\u001b[0m: A sparse matrix was passed, but dense data is required. Use X.toarray() to convert to a dense numpy array."
          ]
        }
      ]
    },
    {
      "cell_type": "code",
      "metadata": {
        "id": "gOquz4o2QUgb"
      },
      "source": [
        "from sklearn.discriminant_analysis import QuadraticDiscriminantAnalysis\n",
        "\n",
        "\n",
        "\n",
        "\n",
        "\n",
        "le = LabelEncoder()\n",
        "y_train= le.fit_transform(y_train)\n",
        "y_test= le.fit_transform(y_test)\n",
        "\n",
        "\n",
        "modelLR =QuadraticDiscriminantAnalysis()\n",
        "\n",
        "modelLR.fit(tfidf_train,y_train)\n",
        "\n",
        "y_pred=modelLR.predict(tfidf_test)\n",
        "\n",
        "score=accuracy_score(y_test,y_pred)\n",
        "\n",
        "print(f'Accuracy: {round(score*100,2)}%')\n",
        "print(classification_report(y_test, y_pred))\n",
        "print(confusion_matrix(y_test, y_pred))"
      ],
      "execution_count": null,
      "outputs": []
    },
    {
      "cell_type": "code",
      "metadata": {
        "id": "aObMTfZFSNKQ"
      },
      "source": [
        ""
      ],
      "execution_count": null,
      "outputs": []
    }
  ]
}